{
 "cells": [
  {
   "cell_type": "code",
   "execution_count": 90,
   "metadata": {},
   "outputs": [],
   "source": [
    "from PyPDF2 import PdfReader\n",
    "import os\n",
    "import tempfile\n",
    "import re\n",
    "\n",
    "def parsePeriodicTransactionReport(pdf_contents):\n",
    "    text = ''\n",
    "\n",
    "    fd, temp_path = tempfile.mkstemp()\n",
    "    try:\n",
    "        with os.fdopen(fd, 'wb') as file:\n",
    "            file.write(pdf_contents)\n",
    "            reader = PdfReader(temp_path)\n",
    "\n",
    "            for page in reader.pages:\n",
    "                text += page.extract_text()\n",
    "    finally:\n",
    "        os.remove(temp_path)\n",
    "\n",
    "    filer_regex = r'name:\\s*(.*?)\\s*status:\\s*(.*?)\\s*state/district:\\s*(.*?[0-9]+)'\n",
    "    matches = re.finditer(filer_regex, text, re.DOTALL | re.IGNORECASE)\n",
    "\n",
    "    filer_information = {}\n",
    "    for match in matches:\n",
    "        filer_information = {'name': match.group(1), 'status': match.group(2), 'state_district': match.group(3)}\n",
    "        break\n",
    "\n",
    "    transaction_regex = r'\\(([A-Za-z]+)\\).*?(?:\\[([A-Z]*)\\])?.*?([S|P]).*?([0-9]+?\\/[0-9]+?\\/[0-9]{4}).*?([0-9]+?\\/[0-9]+?\\/[0-9]{4}).*?(\\$[0-9|,]+.*?\\$[0-9|,]+)'\n",
    "    matches = re.finditer(transaction_regex, text, re.DOTALL)\n",
    "\n",
    "    trades = []\n",
    "    for match in matches:\n",
    "        if match.group(2) is not None and match.group(2) != 'ST':\n",
    "            continue\n",
    "        \n",
    "        trade_information = {\n",
    "            'ticker': match.group(1).upper().strip(),\n",
    "            'transaction_type': match.group(3),\n",
    "            'transaction_date': match.group(4),\n",
    "            'notification_date': match.group(5),\n",
    "            'amount': ''.join(match.group(6).split())\n",
    "        }\n",
    "        trades.append(trade_information)\n",
    "\n",
    "    if len(trades) == 0:\n",
    "        return None\n",
    "\n",
    "    report = {'filer_information': filer_information, 'trades': trades}\n",
    "    return report"
   ]
  },
  {
   "cell_type": "code",
   "execution_count": 51,
   "metadata": {},
   "outputs": [],
   "source": [
    "import xml.etree.ElementTree as ET\n",
    "\n",
    "def parseFinancialDisclosureReport(xml_filename):\n",
    "    tree = ET.parse(xml_filename)\n",
    "    root = tree.getroot()\n",
    "\n",
    "    document_ids = []\n",
    "    for member in root.findall('./Member'):\n",
    "        if member.find('./FilingType').text != 'P':\n",
    "            continue\n",
    "        document_ids.append(member.find('./DocID').text)\n",
    "\n",
    "    return document_ids"
   ]
  },
  {
   "cell_type": "code",
   "execution_count": 68,
   "metadata": {},
   "outputs": [],
   "source": [
    "import requests as r\n",
    "\n",
    "def getPeriodicTransactionReport(document_id, year='2022'):\n",
    "    response = r.get('https://disclosures-clerk.house.gov/public_disc/ptr-pdfs/{}/{}.pdf'.format(year, document_id))\n",
    "\n",
    "    if response.status_code == 200:\n",
    "        return response.content\n",
    "        \n",
    "    response = r.get('https://disclosures-clerk.house.gov/public_disc/financial-pdfs/{}/{}.pdf'.format(year, document_id))\n",
    "\n",
    "    if response.status_code == 200:\n",
    "        return response.content\n",
    "\n",
    "    print('Unable to get Periodic Transaction Report {}'.format(document_id))\n"
   ]
  },
  {
   "cell_type": "code",
   "execution_count": 53,
   "metadata": {},
   "outputs": [],
   "source": [
    "import requests as r\n",
    "from zipfile import ZipFile\n",
    "import os\n",
    "import tempfile\n",
    "\n",
    "def saveFinancialClosureReport(year='2022'):\n",
    "    response = r.get('https://disclosures-clerk.house.gov/public_disc/financial-pdfs/{}FD.ZIP'.format(year))\n",
    "\n",
    "    if response.status_code != 200:\n",
    "        print('Unable to get Financial Closure Report for the web: {}'.format(year))\n",
    "        return\n",
    "\n",
    "    extract_file = '{}FD.xml'.format(year)\n",
    "\n",
    "    fd, temp_path = tempfile.mkstemp()\n",
    "    try:\n",
    "        with os.fdopen(fd, 'wb') as file:\n",
    "            file.write(response.content)\n",
    "            with ZipFile(temp_path, 'r') as zip_ref:\n",
    "                zip_ref.extract(extract_file)\n",
    "    finally:\n",
    "        os.remove(temp_path)\n",
    "\n",
    "    return extract_file\n",
    "    "
   ]
  },
  {
   "cell_type": "code",
   "execution_count": 94,
   "metadata": {},
   "outputs": [],
   "source": [
    "import json\n",
    "\n",
    "def saveTransactionsToJSONFile(document_ids, json_filename, year='2022'):\n",
    "    transactions = []\n",
    "    for id in document_ids:\n",
    "        pdf_contents = getPeriodicTransactionReport(id, year)\n",
    "        if pdf_contents is None:\n",
    "            continue\n",
    "        report = parsePeriodicTransactionReport(pdf_contents)\n",
    "        if report is not None:\n",
    "            transactions.append(report)\n",
    "            print('Parsed {}'.format(id))\n",
    "        else:\n",
    "            print('Unable to parse {}'.format(id))\n",
    "    j = json.dumps(transactions)\n",
    "\n",
    "    with open(json_filename, 'w') as file:\n",
    "        file.write(j)"
   ]
  },
  {
   "cell_type": "code",
   "execution_count": null,
   "metadata": {},
   "outputs": [],
   "source": [
    "for i in range(2016, 2023):\n",
    "    year = '{}'.format(i)\n",
    "    print('working through {}'.format(year))\n",
    "    report = saveFinancialClosureReport(year)\n",
    "    document_ids = parseFinancialDisclosureReport(report)\n",
    "    saveTransactionsToJSONFile(document_ids, 'congressional-transactions-{}.json'.format(year), year)"
   ]
  },
  {
   "cell_type": "code",
   "execution_count": null,
   "metadata": {},
   "outputs": [],
   "source": []
  }
 ],
 "metadata": {
  "kernelspec": {
   "display_name": "Python 3",
   "language": "python",
   "name": "python3"
  },
  "language_info": {
   "codemirror_mode": {
    "name": "ipython",
    "version": 3
   },
   "file_extension": ".py",
   "mimetype": "text/x-python",
   "name": "python",
   "nbconvert_exporter": "python",
   "pygments_lexer": "ipython3",
   "version": "3.10.9 (main, Dec 15 2022, 17:11:09) [Clang 14.0.0 (clang-1400.0.29.202)]"
  },
  "orig_nbformat": 4,
  "vscode": {
   "interpreter": {
    "hash": "b0fa6594d8f4cbf19f97940f81e996739fb7646882a419484c72d19e05852a7e"
   }
  }
 },
 "nbformat": 4,
 "nbformat_minor": 2
}
